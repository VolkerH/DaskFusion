{
 "cells": [
  {
   "cell_type": "code",
   "execution_count": 1,
   "metadata": {},
   "outputs": [],
   "source": [
    "from functools import partial\n",
    "from pathlib import Path\n",
    "import time\n",
    "from zipfile import ZipFile\n",
    "\n",
    "import napari\n",
    "from napari.utils import nbscreenshot\n",
    "\n",
    "from shapely.geometry import GeometryCollection\n",
    "from shapely.geometry import Point\n",
    "\n",
    "from scipy.ndimage import affine_transform\n",
    "from skimage.transform import AffineTransform\n",
    "\n",
    "import dask.array as da\n",
    "from dask.array.core import normalize_chunks\n",
    "from dask_image.ndfilters import gaussian_filter\n",
    "\n",
    "#from spacem_lib.io.writer import write_ome_zarr\n",
    "\n",
    "from utils.download_sample import download_from_dropbox\n",
    "from utils.coordinate_utils import extract_coordinates, normalize_coords_to_pixel\n",
    "from utils.imutils import *\n",
    "from utils.shapely_and_napari_utils import *\n",
    "from utils.chunks import get_chunk_coordinates, get_rect_from_chunk_slice, tile_chunk_intersections\n",
    "from fuse.fuse import fuse_func"
   ]
  },
  {
   "cell_type": "code",
   "execution_count": 2,
   "metadata": {},
   "outputs": [],
   "source": [
    "%gui qt"
   ]
  },
  {
   "cell_type": "code",
   "execution_count": 3,
   "metadata": {},
   "outputs": [],
   "source": [
    "time.sleep(1)"
   ]
  },
  {
   "cell_type": "code",
   "execution_count": 4,
   "metadata": {},
   "outputs": [],
   "source": [
    "if not Path(\"Stiching_Example_Dataset\").exists():\n",
    "    # Download and extract sample data\n",
    "    example_dataset=\"https://www.dropbox.com/s/rhggl54sbpx9llj/Stiching_Example_Dataset.zip?dl=0\"\n",
    "    print(\"Downloading sample file from dropbox\")\n",
    "    download_from_dropbox(example_dataset, \"_sample.zip\")\n",
    "    print(\"Extracting sample file\")\n",
    "    ZipFile(\"_sample.zip\").extractall()"
   ]
  },
  {
   "cell_type": "code",
   "execution_count": 5,
   "metadata": {},
   "outputs": [
    {
     "data": {
      "text/html": [
       "<div>\n",
       "<style scoped>\n",
       "    .dataframe tbody tr th:only-of-type {\n",
       "        vertical-align: middle;\n",
       "    }\n",
       "\n",
       "    .dataframe tbody tr th {\n",
       "        vertical-align: top;\n",
       "    }\n",
       "\n",
       "    .dataframe thead th {\n",
       "        text-align: right;\n",
       "    }\n",
       "</style>\n",
       "<table border=\"1\" class=\"dataframe\">\n",
       "  <thead>\n",
       "    <tr style=\"text-align: right;\">\n",
       "      <th></th>\n",
       "      <th>name</th>\n",
       "      <th>X</th>\n",
       "      <th>Y</th>\n",
       "      <th>Z</th>\n",
       "      <th>um/px</th>\n",
       "    </tr>\n",
       "  </thead>\n",
       "  <tbody>\n",
       "    <tr>\n",
       "      <th>0</th>\n",
       "      <td>1_0000</td>\n",
       "      <td>3582.7</td>\n",
       "      <td>4164.4</td>\n",
       "      <td>1686.65</td>\n",
       "      <td>0.64</td>\n",
       "    </tr>\n",
       "    <tr>\n",
       "      <th>1</th>\n",
       "      <td>1_0001</td>\n",
       "      <td>-12396.6</td>\n",
       "      <td>11719.3</td>\n",
       "      <td>1686.63</td>\n",
       "      <td>0.64</td>\n",
       "    </tr>\n",
       "    <tr>\n",
       "      <th>2</th>\n",
       "      <td>1_0002</td>\n",
       "      <td>-13583.0</td>\n",
       "      <td>11726.0</td>\n",
       "      <td>1686.63</td>\n",
       "      <td>0.64</td>\n",
       "    </tr>\n",
       "    <tr>\n",
       "      <th>3</th>\n",
       "      <td>1_0003</td>\n",
       "      <td>-14769.3</td>\n",
       "      <td>11732.8</td>\n",
       "      <td>1686.63</td>\n",
       "      <td>0.64</td>\n",
       "    </tr>\n",
       "    <tr>\n",
       "      <th>4</th>\n",
       "      <td>1_0004</td>\n",
       "      <td>-15955.6</td>\n",
       "      <td>11739.5</td>\n",
       "      <td>1686.63</td>\n",
       "      <td>0.64</td>\n",
       "    </tr>\n",
       "    <tr>\n",
       "      <th>...</th>\n",
       "      <td>...</td>\n",
       "      <td>...</td>\n",
       "      <td>...</td>\n",
       "      <td>...</td>\n",
       "      <td>...</td>\n",
       "    </tr>\n",
       "    <tr>\n",
       "      <th>67</th>\n",
       "      <td>1_0067</td>\n",
       "      <td>-16003.1</td>\n",
       "      <td>3370.3</td>\n",
       "      <td>1686.63</td>\n",
       "      <td>0.64</td>\n",
       "    </tr>\n",
       "    <tr>\n",
       "      <th>68</th>\n",
       "      <td>1_0068</td>\n",
       "      <td>-14816.8</td>\n",
       "      <td>3363.5</td>\n",
       "      <td>1686.63</td>\n",
       "      <td>0.64</td>\n",
       "    </tr>\n",
       "    <tr>\n",
       "      <th>69</th>\n",
       "      <td>1_0069</td>\n",
       "      <td>-13630.5</td>\n",
       "      <td>3356.8</td>\n",
       "      <td>1686.63</td>\n",
       "      <td>0.64</td>\n",
       "    </tr>\n",
       "    <tr>\n",
       "      <th>70</th>\n",
       "      <td>1_0070</td>\n",
       "      <td>-12444.2</td>\n",
       "      <td>3350.1</td>\n",
       "      <td>1686.63</td>\n",
       "      <td>0.64</td>\n",
       "    </tr>\n",
       "    <tr>\n",
       "      <th>71</th>\n",
       "      <td>1_0071</td>\n",
       "      <td>-11257.9</td>\n",
       "      <td>3343.3</td>\n",
       "      <td>1686.63</td>\n",
       "      <td>0.64</td>\n",
       "    </tr>\n",
       "  </tbody>\n",
       "</table>\n",
       "<p>72 rows × 5 columns</p>\n",
       "</div>"
      ],
      "text/plain": [
       "      name        X        Y        Z  um/px\n",
       "0   1_0000   3582.7   4164.4  1686.65   0.64\n",
       "1   1_0001 -12396.6  11719.3  1686.63   0.64\n",
       "2   1_0002 -13583.0  11726.0  1686.63   0.64\n",
       "3   1_0003 -14769.3  11732.8  1686.63   0.64\n",
       "4   1_0004 -15955.6  11739.5  1686.63   0.64\n",
       "..     ...      ...      ...      ...    ...\n",
       "67  1_0067 -16003.1   3370.3  1686.63   0.64\n",
       "68  1_0068 -14816.8   3363.5  1686.63   0.64\n",
       "69  1_0069 -13630.5   3356.8  1686.63   0.64\n",
       "70  1_0070 -12444.2   3350.1  1686.63   0.64\n",
       "71  1_0071 -11257.9   3343.3  1686.63   0.64\n",
       "\n",
       "[72 rows x 5 columns]"
      ]
     },
     "execution_count": 5,
     "metadata": {},
     "output_type": "execute_result"
    }
   ],
   "source": [
    "coords = extract_coordinates(\"Stiching_Example_Dataset/out.txt\")\n",
    "coords"
   ]
  },
  {
   "cell_type": "code",
   "execution_count": 6,
   "metadata": {},
   "outputs": [],
   "source": [
    "files = sorted(list(Path(\"Stiching_Example_Dataset\").glob(\"*.jpg\")))"
   ]
  },
  {
   "cell_type": "code",
   "execution_count": 7,
   "metadata": {},
   "outputs": [],
   "source": [
    "def subsample(arr, factor: int=2):\n",
    "    return arr[::factor, ::factor]"
   ]
  },
  {
   "cell_type": "code",
   "execution_count": 8,
   "metadata": {},
   "outputs": [],
   "source": [
    "normalized_coords=normalize_coords_to_pixel(coords).to_numpy()"
   ]
  },
  {
   "cell_type": "code",
   "execution_count": 9,
   "metadata": {},
   "outputs": [],
   "source": [
    "factor = 16\n",
    "_subsample = partial(subsample, factor=factor)\n",
    "\n",
    "load_transforms = [crop_black_border,\n",
    "                    _subsample,]\n",
    "                   # transpose]\n",
    "_load_image = partial(load_image, transforms=load_transforms)"
   ]
  },
  {
   "cell_type": "code",
   "execution_count": 10,
   "metadata": {},
   "outputs": [],
   "source": [
    "images = list(map(_load_image, files))"
   ]
  },
  {
   "cell_type": "code",
   "execution_count": 11,
   "metadata": {},
   "outputs": [],
   "source": [
    "eight_transforms = ((), \n",
    "                    (transpose,), \n",
    "                    (np.fliplr,), \n",
    "                    (np.flipud,), \n",
    "                    (np.flipud, transpose,), \n",
    "                    (np.fliplr, transpose,), \n",
    "                    (np.flipud, np.fliplr,), \n",
    "                    (np.flipud, np.fliplr, transpose,),)"
   ]
  },
  {
   "cell_type": "code",
   "execution_count": 12,
   "metadata": {},
   "outputs": [
    {
     "name": "stdout",
     "output_type": "stream",
     "text": [
      "Processing chunk at (0, 0)\n",
      "Processing chunk at (0, 0)\n",
      "Processing chunk at (0, 0)\n",
      "Processing chunk at (0, 0)\n",
      "Processing chunk at (0, 0)\n",
      "Processing chunk at (0, 0)\n",
      "Processing chunk at (0, 0)\n",
      "Processing chunk at (0, 0)\n"
     ]
    }
   ],
   "source": [
    "chunk_size = (4096,4096)\n",
    "_fuse_func=partial(fuse_func, \n",
    "                   imload_func=None,\n",
    "                   dtype=np.uint8)\n",
    "previews =[]\n",
    "for transform_chain in eight_transforms:\n",
    "    mosaics_shape_images = get_mosaics_bboxes_transforms(images,transform_chain,normalized_coords,factor)\n",
    "    _tmp = get_chunk_slices_and_shapes(chunk_size=chunk_size, array_shape=mosaics_shape_images['stitched_shape'])\n",
    "    chunk_slices = _tmp['chunk_slices']\n",
    "    chunks_shapely = _tmp['chunks_shapely']\n",
    "    chunk_tiles = tile_chunk_intersections(mosaics_shape_images['mosaic_shifted'],\n",
    "                                       mosaics_shape_images['transformed_images'],\n",
    "                                       mosaics_shape_images['transforms'],\n",
    "                                       chunks_shapely, \n",
    "                                       chunk_slices)\n",
    "    target_array = da.map_blocks(func=_fuse_func,\n",
    "                             chunks=normalize_chunks(chunk_size, mosaics_shape_images['stitched_shape']), \n",
    "                             input_tile_info=chunk_tiles,\n",
    "                             dtype=np.uint8)\n",
    "    previews.append(target_array.compute())"
   ]
  },
  {
   "cell_type": "code",
   "execution_count": 13,
   "metadata": {},
   "outputs": [
    {
     "name": "stdout",
     "output_type": "stream",
     "text": [
      "2021-07-02 13:55:07,615 [INFO] WRITING LOG OUTPUT TO /home/hilsenst/.cellpose/run.log\n"
     ]
    }
   ],
   "source": [
    "v = napari.Viewer()"
   ]
  },
  {
   "cell_type": "code",
   "execution_count": 14,
   "metadata": {},
   "outputs": [
    {
     "data": {
      "text/plain": [
       "[<Image layer 'p' at 0x7f2c42d6ea10>,\n",
       " <Image layer 'p [1]' at 0x7f2c42f1b2d0>,\n",
       " <Image layer 'p [2]' at 0x7f2c42eb51d0>,\n",
       " <Image layer 'p [3]' at 0x7f2c434a1710>,\n",
       " <Image layer 'p [4]' at 0x7f2c4326ecd0>,\n",
       " <Image layer 'p [5]' at 0x7f2c432b8dd0>,\n",
       " <Image layer 'p [6]' at 0x7f2c43120510>,\n",
       " <Image layer 'p [7]' at 0x7f2c42aef150>]"
      ]
     },
     "execution_count": 14,
     "metadata": {},
     "output_type": "execute_result"
    }
   ],
   "source": [
    "[v.add_image(p) for p in previews]"
   ]
  }
 ],
 "metadata": {
  "interpreter": {
   "hash": "8c1da9b333bd16eca91c483de28cf1e3bdef92ae84368abdb550f55cbacd6d65"
  },
  "kernelspec": {
   "display_name": "Python 3",
   "language": "python",
   "name": "python3"
  },
  "language_info": {
   "codemirror_mode": {
    "name": "ipython",
    "version": 3
   },
   "file_extension": ".py",
   "mimetype": "text/x-python",
   "name": "python",
   "nbconvert_exporter": "python",
   "pygments_lexer": "ipython3",
   "version": "3.7.9"
  }
 },
 "nbformat": 4,
 "nbformat_minor": 2
}
