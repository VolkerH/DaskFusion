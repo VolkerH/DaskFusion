{
 "metadata": {
  "language_info": {
   "codemirror_mode": {
    "name": "ipython",
    "version": 3
   },
   "file_extension": ".py",
   "mimetype": "text/x-python",
   "name": "python",
   "nbconvert_exporter": "python",
   "pygments_lexer": "ipython3",
   "version": "3.7.9"
  },
  "orig_nbformat": 4,
  "kernelspec": {
   "name": "python3",
   "display_name": "Python 3.7.9 64-bit ('napari': conda)"
  },
  "interpreter": {
   "hash": "8c1da9b333bd16eca91c483de28cf1e3bdef92ae84368abdb550f55cbacd6d65"
  }
 },
 "nbformat": 4,
 "nbformat_minor": 2,
 "cells": [
  {
   "cell_type": "code",
   "execution_count": 10,
   "metadata": {},
   "outputs": [
    {
     "output_type": "stream",
     "name": "stderr",
     "text": [
      "/home/hilsenst/miniconda3/envs/napari/lib/python3.7/importlib/_bootstrap.py:219: RuntimeWarning: numpy.ufunc size changed, may indicate binary incompatibility. Expected 192 from C header, got 216 from PyObject\n  return f(*args, **kwds)\n"
     ]
    }
   ],
   "source": [
    "from zipfile import ZipFile\n",
    "from utils.download_sample import download_from_dropbox\n",
    "from utils.coordinate_utils import extract_coordinates\n",
    "from pathlib import Path\n",
    "import napari"
   ]
  },
  {
   "cell_type": "code",
   "execution_count": 4,
   "metadata": {},
   "outputs": [
    {
     "output_type": "stream",
     "name": "stdout",
     "text": [
      "Downloading sample file from dropbox\n",
      "Extracting sample file\n"
     ]
    }
   ],
   "source": [
    "# Download and extract sample data\n",
    "example_dataset=\"https://www.dropbox.com/s/rhggl54sbpx9llj/Stiching_Example_Dataset.zip?dl=0\"\n",
    "print(\"Downloading sample file from dropbox\")\n",
    "download_from_dropbox(example_dataset, \"_sample.zip\")\n",
    "print(\"Extracting sample file\")\n",
    "ZipFile(\"_sample.zip\").extractall()\n"
   ]
  },
  {
   "cell_type": "code",
   "execution_count": 5,
   "metadata": {},
   "outputs": [
    {
     "output_type": "stream",
     "name": "stdout",
     "text": [
      "Example.ipynb  README.md  _sample.zip  Stiching_Example_Dataset  utils\n"
     ]
    }
   ],
   "source": [
    "!ls"
   ]
  },
  {
   "cell_type": "code",
   "execution_count": 6,
   "metadata": {},
   "outputs": [
    {
     "output_type": "stream",
     "name": "stdout",
     "text": [
      "out.txt\t\t\t  Well1_Seq0001_1_0024.jpg  Well1_Seq0001_1_0049.jpg\nWell1_Seq0001_1_0000.jpg  Well1_Seq0001_1_0025.jpg  Well1_Seq0001_1_0050.jpg\nWell1_Seq0001_1_0001.jpg  Well1_Seq0001_1_0026.jpg  Well1_Seq0001_1_0051.jpg\nWell1_Seq0001_1_0002.jpg  Well1_Seq0001_1_0027.jpg  Well1_Seq0001_1_0052.jpg\nWell1_Seq0001_1_0003.jpg  Well1_Seq0001_1_0028.jpg  Well1_Seq0001_1_0053.jpg\nWell1_Seq0001_1_0004.jpg  Well1_Seq0001_1_0029.jpg  Well1_Seq0001_1_0054.jpg\nWell1_Seq0001_1_0005.jpg  Well1_Seq0001_1_0030.jpg  Well1_Seq0001_1_0055.jpg\nWell1_Seq0001_1_0006.jpg  Well1_Seq0001_1_0031.jpg  Well1_Seq0001_1_0056.jpg\nWell1_Seq0001_1_0007.jpg  Well1_Seq0001_1_0032.jpg  Well1_Seq0001_1_0057.jpg\nWell1_Seq0001_1_0008.jpg  Well1_Seq0001_1_0033.jpg  Well1_Seq0001_1_0058.jpg\nWell1_Seq0001_1_0009.jpg  Well1_Seq0001_1_0034.jpg  Well1_Seq0001_1_0059.jpg\nWell1_Seq0001_1_0010.jpg  Well1_Seq0001_1_0035.jpg  Well1_Seq0001_1_0060.jpg\nWell1_Seq0001_1_0011.jpg  Well1_Seq0001_1_0036.jpg  Well1_Seq0001_1_0061.jpg\nWell1_Seq0001_1_0012.jpg  Well1_Seq0001_1_0037.jpg  Well1_Seq0001_1_0062.jpg\nWell1_Seq0001_1_0013.jpg  Well1_Seq0001_1_0038.jpg  Well1_Seq0001_1_0063.jpg\nWell1_Seq0001_1_0014.jpg  Well1_Seq0001_1_0039.jpg  Well1_Seq0001_1_0064.jpg\nWell1_Seq0001_1_0015.jpg  Well1_Seq0001_1_0040.jpg  Well1_Seq0001_1_0065.jpg\nWell1_Seq0001_1_0016.jpg  Well1_Seq0001_1_0041.jpg  Well1_Seq0001_1_0066.jpg\nWell1_Seq0001_1_0017.jpg  Well1_Seq0001_1_0042.jpg  Well1_Seq0001_1_0067.jpg\nWell1_Seq0001_1_0018.jpg  Well1_Seq0001_1_0043.jpg  Well1_Seq0001_1_0068.jpg\nWell1_Seq0001_1_0019.jpg  Well1_Seq0001_1_0044.jpg  Well1_Seq0001_1_0069.jpg\nWell1_Seq0001_1_0020.jpg  Well1_Seq0001_1_0045.jpg  Well1_Seq0001_1_0070.jpg\nWell1_Seq0001_1_0021.jpg  Well1_Seq0001_1_0046.jpg  Well1_Seq0001_1_0071.jpg\nWell1_Seq0001_1_0022.jpg  Well1_Seq0001_1_0047.jpg\nWell1_Seq0001_1_0023.jpg  Well1_Seq0001_1_0048.jpg\n"
     ]
    }
   ],
   "source": [
    "!ls Stiching_Example_Dataset/"
   ]
  },
  {
   "cell_type": "code",
   "execution_count": 9,
   "metadata": {},
   "outputs": [
    {
     "output_type": "execute_result",
     "data": {
      "text/plain": [
       "      name        X        Y        Z  um/px\n",
       "0   1_0000   3582.7   4164.4  1686.65   0.64\n",
       "1   1_0001 -12396.6  11719.3  1686.63   0.64\n",
       "2   1_0002 -13583.0  11726.0  1686.63   0.64\n",
       "3   1_0003 -14769.3  11732.8  1686.63   0.64\n",
       "4   1_0004 -15955.6  11739.5  1686.63   0.64\n",
       "..     ...      ...      ...      ...    ...\n",
       "67  1_0067 -16003.1   3370.3  1686.63   0.64\n",
       "68  1_0068 -14816.8   3363.5  1686.63   0.64\n",
       "69  1_0069 -13630.5   3356.8  1686.63   0.64\n",
       "70  1_0070 -12444.2   3350.1  1686.63   0.64\n",
       "71  1_0071 -11257.9   3343.3  1686.63   0.64\n",
       "\n",
       "[72 rows x 5 columns]"
      ],
      "text/html": "<div>\n<style scoped>\n    .dataframe tbody tr th:only-of-type {\n        vertical-align: middle;\n    }\n\n    .dataframe tbody tr th {\n        vertical-align: top;\n    }\n\n    .dataframe thead th {\n        text-align: right;\n    }\n</style>\n<table border=\"1\" class=\"dataframe\">\n  <thead>\n    <tr style=\"text-align: right;\">\n      <th></th>\n      <th>name</th>\n      <th>X</th>\n      <th>Y</th>\n      <th>Z</th>\n      <th>um/px</th>\n    </tr>\n  </thead>\n  <tbody>\n    <tr>\n      <th>0</th>\n      <td>1_0000</td>\n      <td>3582.7</td>\n      <td>4164.4</td>\n      <td>1686.65</td>\n      <td>0.64</td>\n    </tr>\n    <tr>\n      <th>1</th>\n      <td>1_0001</td>\n      <td>-12396.6</td>\n      <td>11719.3</td>\n      <td>1686.63</td>\n      <td>0.64</td>\n    </tr>\n    <tr>\n      <th>2</th>\n      <td>1_0002</td>\n      <td>-13583.0</td>\n      <td>11726.0</td>\n      <td>1686.63</td>\n      <td>0.64</td>\n    </tr>\n    <tr>\n      <th>3</th>\n      <td>1_0003</td>\n      <td>-14769.3</td>\n      <td>11732.8</td>\n      <td>1686.63</td>\n      <td>0.64</td>\n    </tr>\n    <tr>\n      <th>4</th>\n      <td>1_0004</td>\n      <td>-15955.6</td>\n      <td>11739.5</td>\n      <td>1686.63</td>\n      <td>0.64</td>\n    </tr>\n    <tr>\n      <th>...</th>\n      <td>...</td>\n      <td>...</td>\n      <td>...</td>\n      <td>...</td>\n      <td>...</td>\n    </tr>\n    <tr>\n      <th>67</th>\n      <td>1_0067</td>\n      <td>-16003.1</td>\n      <td>3370.3</td>\n      <td>1686.63</td>\n      <td>0.64</td>\n    </tr>\n    <tr>\n      <th>68</th>\n      <td>1_0068</td>\n      <td>-14816.8</td>\n      <td>3363.5</td>\n      <td>1686.63</td>\n      <td>0.64</td>\n    </tr>\n    <tr>\n      <th>69</th>\n      <td>1_0069</td>\n      <td>-13630.5</td>\n      <td>3356.8</td>\n      <td>1686.63</td>\n      <td>0.64</td>\n    </tr>\n    <tr>\n      <th>70</th>\n      <td>1_0070</td>\n      <td>-12444.2</td>\n      <td>3350.1</td>\n      <td>1686.63</td>\n      <td>0.64</td>\n    </tr>\n    <tr>\n      <th>71</th>\n      <td>1_0071</td>\n      <td>-11257.9</td>\n      <td>3343.3</td>\n      <td>1686.63</td>\n      <td>0.64</td>\n    </tr>\n  </tbody>\n</table>\n<p>72 rows × 5 columns</p>\n</div>"
     },
     "metadata": {},
     "execution_count": 9
    }
   ],
   "source": [
    "extract_coordinates(\"Stiching_Example_Dataset/out.txt\")"
   ]
  },
  {
   "cell_type": "code",
   "execution_count": 11,
   "metadata": {},
   "outputs": [],
   "source": [
    "%gui qt"
   ]
  },
  {
   "cell_type": "code",
   "execution_count": 12,
   "metadata": {},
   "outputs": [],
   "source": [
    "v=napari.viewer"
   ]
  },
  {
   "cell_type": "code",
   "execution_count": 13,
   "metadata": {},
   "outputs": [
    {
     "output_type": "error",
     "ename": "NameError",
     "evalue": "name 'Path' is not defined",
     "traceback": [
      "\u001b[0;31m---------------------------------------------------------------------------\u001b[0m",
      "\u001b[0;31mNameError\u001b[0m                                 Traceback (most recent call last)",
      "\u001b[0;32m<ipython-input-13-1af9c7f7ae14>\u001b[0m in \u001b[0;36m<module>\u001b[0;34m\u001b[0m\n\u001b[0;32m----> 1\u001b[0;31m \u001b[0mfiles\u001b[0m \u001b[0;34m=\u001b[0m \u001b[0mPath\u001b[0m\u001b[0;34m(\u001b[0m\u001b[0;34m\"Stiching_Example_Dataset\"\u001b[0m\u001b[0;34m)\u001b[0m\u001b[0;34m.\u001b[0m\u001b[0mglob\u001b[0m\u001b[0;34m(\u001b[0m\u001b[0;34m\"*.jpg\"\u001b[0m\u001b[0;34m)\u001b[0m\u001b[0;34m\u001b[0m\u001b[0;34m\u001b[0m\u001b[0m\n\u001b[0m",
      "\u001b[0;31mNameError\u001b[0m: name 'Path' is not defined"
     ]
    }
   ],
   "source": [
    "files = Path(\"Stiching_Example_Dataset\").glob(\"*.jpg\")"
   ]
  },
  {
   "cell_type": "code",
   "execution_count": null,
   "metadata": {},
   "outputs": [],
   "source": []
  }
 ]
}