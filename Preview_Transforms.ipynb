{
 "cells": [
  {
   "cell_type": "code",
   "execution_count": 1,
   "metadata": {},
   "outputs": [],
   "source": [
    "from functools import partial\n",
    "from pathlib import Path\n",
    "import time\n",
    "from zipfile import ZipFile\n",
    "\n",
    "import napari\n",
    "from napari.utils import nbscreenshot\n",
    "\n",
    "from shapely.geometry import GeometryCollection\n",
    "from shapely.geometry import Point\n",
    "\n",
    "from scipy.ndimage import affine_transform\n",
    "from skimage.transform import AffineTransform\n",
    "\n",
    "import dask.array as da\n",
    "from dask.array.core import normalize_chunks\n",
    "#from dask_image.ndfilters import gaussian_filter\n",
    "\n",
    "#from spacem_lib.io.writer import write_ome_zarr\n",
    "\n",
    "from utils.download_sample import download_from_dropbox\n",
    "from utils.coordinate_utils import extract_coordinates, normalize_coords_to_pixel\n",
    "from utils.imutils import *\n",
    "from utils.shapely_and_napari_utils import *\n",
    "from utils.chunks import get_chunk_coordinates, get_rect_from_chunk_slice, tile_chunk_intersections\n",
    "from fuse.fuse import fuse_func"
   ]
  },
  {
   "cell_type": "code",
   "execution_count": 2,
   "metadata": {},
   "outputs": [],
   "source": [
    "%gui qt"
   ]
  },
  {
   "cell_type": "code",
   "execution_count": 3,
   "metadata": {},
   "outputs": [],
   "source": [
    "time.sleep(1)"
   ]
  },
  {
   "cell_type": "code",
   "execution_count": 4,
   "metadata": {},
   "outputs": [],
   "source": [
    "nikonfolder = \"/g/scb/alexandr/shared/Luisa/HT_test/20210621/PostMaldi_Microscopy/Whole_Slide/\""
   ]
  },
  {
   "cell_type": "code",
   "execution_count": 5,
   "metadata": {},
   "outputs": [
    {
     "data": {
      "text/html": [
       "<div>\n",
       "<style scoped>\n",
       "    .dataframe tbody tr th:only-of-type {\n",
       "        vertical-align: middle;\n",
       "    }\n",
       "\n",
       "    .dataframe tbody tr th {\n",
       "        vertical-align: top;\n",
       "    }\n",
       "\n",
       "    .dataframe thead th {\n",
       "        text-align: right;\n",
       "    }\n",
       "</style>\n",
       "<table border=\"1\" class=\"dataframe\">\n",
       "  <thead>\n",
       "    <tr style=\"text-align: right;\">\n",
       "      <th></th>\n",
       "      <th>name</th>\n",
       "      <th>X</th>\n",
       "      <th>Y</th>\n",
       "      <th>Z</th>\n",
       "      <th>um/px</th>\n",
       "    </tr>\n",
       "  </thead>\n",
       "  <tbody>\n",
       "    <tr>\n",
       "      <th>0</th>\n",
       "      <td>#1</td>\n",
       "      <td>7471.8</td>\n",
       "      <td>9216.6</td>\n",
       "      <td>2315.75</td>\n",
       "      <td>0.64</td>\n",
       "    </tr>\n",
       "    <tr>\n",
       "      <th>1</th>\n",
       "      <td>#2</td>\n",
       "      <td>6417.3</td>\n",
       "      <td>9222.6</td>\n",
       "      <td>2315.75</td>\n",
       "      <td>0.64</td>\n",
       "    </tr>\n",
       "    <tr>\n",
       "      <th>2</th>\n",
       "      <td>#3</td>\n",
       "      <td>5362.8</td>\n",
       "      <td>9228.6</td>\n",
       "      <td>2315.75</td>\n",
       "      <td>0.64</td>\n",
       "    </tr>\n",
       "    <tr>\n",
       "      <th>3</th>\n",
       "      <td>#4</td>\n",
       "      <td>4308.3</td>\n",
       "      <td>9234.6</td>\n",
       "      <td>2315.75</td>\n",
       "      <td>0.64</td>\n",
       "    </tr>\n",
       "    <tr>\n",
       "      <th>4</th>\n",
       "      <td>#5</td>\n",
       "      <td>3253.8</td>\n",
       "      <td>9240.6</td>\n",
       "      <td>2315.72</td>\n",
       "      <td>0.64</td>\n",
       "    </tr>\n",
       "    <tr>\n",
       "      <th>...</th>\n",
       "      <td>...</td>\n",
       "      <td>...</td>\n",
       "      <td>...</td>\n",
       "      <td>...</td>\n",
       "      <td>...</td>\n",
       "    </tr>\n",
       "    <tr>\n",
       "      <th>667</th>\n",
       "      <td>#668</td>\n",
       "      <td>3163.2</td>\n",
       "      <td>-6700.8</td>\n",
       "      <td>2315.70</td>\n",
       "      <td>0.64</td>\n",
       "    </tr>\n",
       "    <tr>\n",
       "      <th>668</th>\n",
       "      <td>#669</td>\n",
       "      <td>4217.7</td>\n",
       "      <td>-6706.8</td>\n",
       "      <td>2315.70</td>\n",
       "      <td>0.64</td>\n",
       "    </tr>\n",
       "    <tr>\n",
       "      <th>669</th>\n",
       "      <td>#670</td>\n",
       "      <td>5272.2</td>\n",
       "      <td>-6712.8</td>\n",
       "      <td>2315.70</td>\n",
       "      <td>0.64</td>\n",
       "    </tr>\n",
       "    <tr>\n",
       "      <th>670</th>\n",
       "      <td>#671</td>\n",
       "      <td>6326.7</td>\n",
       "      <td>-6718.8</td>\n",
       "      <td>2315.70</td>\n",
       "      <td>0.64</td>\n",
       "    </tr>\n",
       "    <tr>\n",
       "      <th>671</th>\n",
       "      <td>#672</td>\n",
       "      <td>7381.2</td>\n",
       "      <td>-6724.8</td>\n",
       "      <td>2315.68</td>\n",
       "      <td>0.64</td>\n",
       "    </tr>\n",
       "  </tbody>\n",
       "</table>\n",
       "<p>672 rows × 5 columns</p>\n",
       "</div>"
      ],
      "text/plain": [
       "     name       X       Y        Z  um/px\n",
       "0      #1  7471.8  9216.6  2315.75   0.64\n",
       "1      #2  6417.3  9222.6  2315.75   0.64\n",
       "2      #3  5362.8  9228.6  2315.75   0.64\n",
       "3      #4  4308.3  9234.6  2315.75   0.64\n",
       "4      #5  3253.8  9240.6  2315.72   0.64\n",
       "..    ...     ...     ...      ...    ...\n",
       "667  #668  3163.2 -6700.8  2315.70   0.64\n",
       "668  #669  4217.7 -6706.8  2315.70   0.64\n",
       "669  #670  5272.2 -6712.8  2315.70   0.64\n",
       "670  #671  6326.7 -6718.8  2315.70   0.64\n",
       "671  #672  7381.2 -6724.8  2315.68   0.64\n",
       "\n",
       "[672 rows x 5 columns]"
      ]
     },
     "execution_count": 5,
     "metadata": {},
     "output_type": "execute_result"
    }
   ],
   "source": [
    "coords = extract_coordinates(Path(nikonfolder)/\"out.txt\")\n",
    "coords"
   ]
  },
  {
   "cell_type": "code",
   "execution_count": 6,
   "metadata": {},
   "outputs": [],
   "source": [
    "files = sorted(list(Path(nikonfolder).glob(\"*.tif\")))"
   ]
  },
  {
   "cell_type": "code",
   "execution_count": 7,
   "metadata": {},
   "outputs": [],
   "source": [
    "#def subsample(arr, factor: int=2):\n",
    "#    return arr[::factor, ::factor]"
   ]
  },
  {
   "cell_type": "code",
   "execution_count": 8,
   "metadata": {},
   "outputs": [],
   "source": [
    "normalized_coords=normalize_coords_to_pixel(coords).to_numpy()"
   ]
  },
  {
   "cell_type": "code",
   "execution_count": 9,
   "metadata": {},
   "outputs": [],
   "source": [
    "limit_images = 90\n",
    "if limit_images:\n",
    "    files=files[:limit_images]\n",
    "    normalized_coords=normalized_coords[:limit_images]"
   ]
  },
  {
   "cell_type": "code",
   "execution_count": 10,
   "metadata": {},
   "outputs": [],
   "source": [
    "factor = 16\n",
    "_subsample = partial(subsample, factor=factor)\n",
    "\n",
    "load_transforms = [crop_black_border,\n",
    "                    _subsample,]\n",
    "                   # transpose]\n",
    "_load_image = partial(load_image, transforms=load_transforms)"
   ]
  },
  {
   "cell_type": "code",
   "execution_count": 11,
   "metadata": {},
   "outputs": [],
   "source": [
    "images = list(map(_load_image, files))"
   ]
  },
  {
   "cell_type": "code",
   "execution_count": 12,
   "metadata": {},
   "outputs": [],
   "source": [
    "eight_transforms = ((), \n",
    "                    (transpose,), \n",
    "                    (np.fliplr,), \n",
    "                    (np.flipud,), \n",
    "                    (np.flipud, transpose,), \n",
    "                    (np.fliplr, transpose,), \n",
    "                    (np.flipud, np.fliplr,), \n",
    "                    (np.flipud, np.fliplr, transpose,),)"
   ]
  },
  {
   "cell_type": "code",
   "execution_count": 13,
   "metadata": {},
   "outputs": [
    {
     "name": "stdout",
     "output_type": "stream",
     "text": [
      "Processing chunk at (0, 0)\n",
      "Processing chunk at (4096, 0)\n",
      "Processing chunk at (0, 0)\n",
      "Processing chunk at (4096, 0)\n",
      "Processing chunk at (0, 0)Processing chunk at (4096, 0)\n",
      "\n",
      "Processing chunk at (0, 0)\n",
      "Processing chunk at (4096, 0)\n",
      "Processing chunk at (0, 0)Processing chunk at (4096, 0)\n",
      "\n",
      "Processing chunk at (0, 0)Processing chunk at (4096, 0)\n",
      "\n",
      "Processing chunk at (0, 0)Processing chunk at (4096, 0)\n",
      "\n",
      "Processing chunk at (0, 0)Processing chunk at (4096, 0)\n",
      "\n"
     ]
    }
   ],
   "source": [
    "chunk_size = (4096,4096)\n",
    "_fuse_func=partial(fuse_func, \n",
    "                   imload_func=None,\n",
    "                   dtype=np.uint8)\n",
    "previews =[]\n",
    "for transform_chain in eight_transforms:\n",
    "    mosaics_shape_images = get_mosaics_bboxes_transforms(images,transform_chain,normalized_coords,factor)\n",
    "    _tmp = get_chunk_slices_and_shapes(chunk_size=chunk_size, array_shape=mosaics_shape_images['stitched_shape'])\n",
    "    chunk_slices = _tmp['chunk_slices']\n",
    "    chunks_shapely = _tmp['chunks_shapely']\n",
    "    chunk_tiles = tile_chunk_intersections(mosaics_shape_images['mosaic_shifted'],\n",
    "                                       mosaics_shape_images['transformed_images'],\n",
    "                                       mosaics_shape_images['transforms'],\n",
    "                                       chunks_shapely, \n",
    "                                       chunk_slices)\n",
    "    target_array = da.map_blocks(func=_fuse_func,\n",
    "                             chunks=normalize_chunks(chunk_size, mosaics_shape_images['stitched_shape']), \n",
    "                             input_tile_info=chunk_tiles,\n",
    "                             dtype=np.uint8)\n",
    "    previews.append(target_array.compute())"
   ]
  },
  {
   "cell_type": "code",
   "execution_count": 14,
   "metadata": {},
   "outputs": [],
   "source": [
    "v = napari.Viewer()"
   ]
  },
  {
   "cell_type": "code",
   "execution_count": 15,
   "metadata": {},
   "outputs": [
    {
     "data": {
      "text/plain": [
       "[<Image layer 'p' at 0x7f7ed40237c0>,\n",
       " <Image layer 'p [1]' at 0x7f7f10343370>,\n",
       " <Image layer 'p [2]' at 0x7f7eb80803a0>,\n",
       " <Image layer 'p [3]' at 0x7f7eb8093ac0>,\n",
       " <Image layer 'p [4]' at 0x7f7eb0379970>,\n",
       " <Image layer 'p [5]' at 0x7f7eb02f7a30>,\n",
       " <Image layer 'p [6]' at 0x7f7eb02768e0>,\n",
       " <Image layer 'p [7]' at 0x7f7eb01f5e80>]"
      ]
     },
     "execution_count": 15,
     "metadata": {},
     "output_type": "execute_result"
    }
   ],
   "source": [
    "[v.add_image(p) for p in previews]"
   ]
  },
  {
   "cell_type": "code",
   "execution_count": null,
   "metadata": {},
   "outputs": [],
   "source": []
  }
 ],
 "metadata": {
  "interpreter": {
   "hash": "8c1da9b333bd16eca91c483de28cf1e3bdef92ae84368abdb550f55cbacd6d65"
  },
  "kernelspec": {
   "display_name": "Python 3",
   "language": "python",
   "name": "python3"
  },
  "language_info": {
   "codemirror_mode": {
    "name": "ipython",
    "version": 3
   },
   "file_extension": ".py",
   "mimetype": "text/x-python",
   "name": "python",
   "nbconvert_exporter": "python",
   "pygments_lexer": "ipython3",
   "version": "3.9.5"
  }
 },
 "nbformat": 4,
 "nbformat_minor": 2
}
